{
 "cells": [
  {
   "cell_type": "markdown",
   "id": "8f4cca66",
   "metadata": {},
   "source": [
    "# Module 3: Probability Theory in Action\n",
    "This notebook contains tasks and exercises related to:\n",
    "- Fundamental Principles of Probability\n",
    "- Joint, Marginal, and Conditional Probabilities\n",
    "- Bayes’ Theorem with Practical Examples\n",
    "- Random Sampling and Probability Distributions\n",
    "- Project: Predict health insurance claims using probability models\n"
   ]
  },
  {
   "cell_type": "markdown",
   "id": "360ccf5d",
   "metadata": {},
   "source": [
    "## 1. Fundamental Principles of Probability\n",
    "### Hometask 1\n",
    "A box contains 5 red, 3 blue, and 2 green balls. One ball is drawn at random. What is the probability that the ball is:\n",
    "a) Red\n",
    "b) Blue\n",
    "c) Green\n",
    "\n",
    "---\n",
    "### Hometask 2\n",
    "A survey of 200 workers shows that 120 like coffee and 80 like tea. If one worker is selected at random, what is the probability they like:\n",
    "a) Coffee\n",
    "b) Tea\n",
    "\n",
    "---\n",
    "### Hometask 3\n",
    "You roll a fair six-sided die. Find the probability of getting:\n",
    "a) A number greater than 4\n",
    "b) An even number\n",
    "c) A number less than or equal to 3"
   ]
  },
  {
   "cell_type": "code",
   "execution_count": 77,
   "id": "77a04cc6",
   "metadata": {},
   "outputs": [
    {
     "name": "stdout",
     "output_type": "stream",
     "text": [
      "Red: 0.50 (50%)\n",
      "Blue: 0.30 (30%)\n",
      "Green: 0.20 (20%)\n"
     ]
    }
   ],
   "source": [
    "#Hometask 1.1\n",
    "# Top sayı\n",
    "red = 5\n",
    "blue = 3\n",
    "green = 2\n",
    "\n",
    "total = red + blue + green\n",
    "\n",
    "# Ehtimallar\n",
    "p_red = red / total\n",
    "p_blue = blue / total\n",
    "p_green = green / total\n",
    "\n",
    "print(f\"Red: {p_red:.2f} ({p_red*100:.0f}%)\")\n",
    "print(f\"Blue: {p_blue:.2f} ({p_blue*100:.0f}%)\")\n",
    "print(f\"Green: {p_green:.2f} ({p_green*100:.0f}%)\")\n"
   ]
  },
  {
   "cell_type": "code",
   "execution_count": 78,
   "id": "3cbf65c5",
   "metadata": {},
   "outputs": [
    {
     "name": "stdout",
     "output_type": "stream",
     "text": [
      "Coffee probability: 0.6 və ya 60.0%\n",
      "Tea probability: 0.4 və ya 40.0%\n"
     ]
    }
   ],
   "source": [
    "#A survey of 200 workers shows that 120 like coffee and 80 like tea. \n",
    "#If one worker is selected at random, what is the probability they like: a) Coffee b) Tea\n",
    "\n",
    "#Hometask 2.1\n",
    "\n",
    "total_workers = 200\n",
    "coffee = 120\n",
    "tea = 80\n",
    "\n",
    "# Ehtimallar\n",
    "p_coffee = coffee / total_workers\n",
    "p_tea = tea / total_workers\n",
    "\n",
    "print(\"Coffee probability:\", p_coffee, \"və ya\", f\"{p_coffee*100:.1f}%\")\n",
    "print(\"Tea probability:\", p_tea, \"və ya\", f\"{p_tea*100:.1f}%\")"
   ]
  },
  {
   "cell_type": "code",
   "execution_count": 7,
   "id": "b8be35cd",
   "metadata": {},
   "outputs": [
    {
     "name": "stdout",
     "output_type": "stream",
     "text": [
      "P(>4): 0.3333333333333333\n",
      "P(Even): 0.5\n",
      "P(≤3): 0.5\n"
     ]
    }
   ],
   "source": [
    "#Hometask 3.1\n",
    "\n",
    "#A number greater than 4 <4\n",
    "#An even number \n",
    "#A number less than or equal to 3 \n",
    "\n",
    "# Məlumat\n",
    "sides = [1, 2, 3, 4, 5, 6]\n",
    "total_outcomes = len(sides)\n",
    "\n",
    "# a) > 4\n",
    "greater_than_4 = [x for x in sides if x > 4]\n",
    "p_greater_than_4 = len(greater_than_4) / total_outcomes\n",
    "\n",
    "# b) Even\n",
    "even_numbers = [x for x in sides if x % 2 == 0]\n",
    "p_even = len(even_numbers) / total_outcomes\n",
    "\n",
    "# c) ≤ 3\n",
    "less_equal_3 = [x for x in sides if x <= 3]\n",
    "p_less_equal_3 = len(less_equal_3) / total_outcomes\n",
    "\n",
    "print(\"P(>4):\", p_greater_than_4)\n",
    "print(\"P(Even):\", p_even)\n",
    "print(\"P(≤3):\", p_less_equal_3)\n"
   ]
  },
  {
   "cell_type": "markdown",
   "id": "9de43d8b",
   "metadata": {},
   "source": [
    "## 2. Joint, Marginal, and Conditional Probabilities\n",
    "### Hometask 1\n",
    "The table below shows the joint distribution of employees by gender and job role:\n",
    "|       | Manager | Staff | Total |\n",
    "|-------|---------|-------|-------|\n",
    "| Male  |   20    |  30   |  50   |\n",
    "| Female|   10    |  40   |  50   |\n",
    "| Total |   30    |  70   | 100   |\n",
    "Find:\n",
    "a) P(Male and Manager)\n",
    "b) P(Female | Staff)\n",
    "c) Marginal probability of being a Manager\n",
    "\n",
    "---\n",
    "### Hometask 2\n",
    "In a survey:\n",
    "- 40% own a car\n",
    "- 50% own a house\n",
    "- 25% own both a car and a house\n",
    "Find:\n",
    "a) Joint probability of owning both\n",
    "b) Conditional probability of owning a house given owning a car\n",
    "c) Marginal probability of owning a car\n",
    "\n",
    "---\n",
    "### Hometask 3\n",
    "From the data:\n",
    "- 60% of students passed Math\n",
    "- 70% passed English\n",
    "- 50% passed both\n",
    "Find:\n",
    "a) Probability that a student passed at least one subject\n",
    "b) Conditional probability of passing Math given passing English\n",
    "c) Probability of passing both"
   ]
  },
  {
   "cell_type": "code",
   "execution_count": 79,
   "id": "5068b740",
   "metadata": {},
   "outputs": [
    {
     "name": "stdout",
     "output_type": "stream",
     "text": [
      "a) P(Male and Manager) = 0.2\n",
      "b) P(Female and Staff) = 0.4\n",
      "c) Marginal probability of being a Manager = 0.3\n"
     ]
    }
   ],
   "source": [
    "#Hometask 1.2\n",
    "\n",
    "total_employees = 100\n",
    "\n",
    "male_manager = 20\n",
    "female_staff = 40\n",
    "total_manager = 30\n",
    "\n",
    "# Hesablamalar\n",
    "p_male_manager = male_manager / total_employees\n",
    "p_female_staff = female_staff / total_employees\n",
    "p_manager = total_manager / total_employees\n",
    "\n",
    "# Nəticələrin çapı\n",
    "print(\"a) P(Male and Manager) =\", p_male_manager)\n",
    "print(\"b) P(Female and Staff) =\", p_female_staff)\n",
    "print(\"c) Marginal probability of being a Manager =\", p_manager)\n"
   ]
  },
  {
   "cell_type": "code",
   "execution_count": 80,
   "id": "3c6c1a2c",
   "metadata": {},
   "outputs": [
    {
     "name": "stdout",
     "output_type": "stream",
     "text": [
      "a) Joint probability of owning both = 0.25\n",
      "b) Conditional probability of owning a house given owning a car = 0.625\n",
      "c) Marginal probability of owning a car = 0.4\n"
     ]
    }
   ],
   "source": [
    "#Hometask 2.2\n",
    "\n",
    "p_car = 0.40        \n",
    "p_house = 0.50      \n",
    "p_both = 0.25       \n",
    "\n",
    "# a) Joint probability (bu artıq verilib)\n",
    "joint_probability = p_both\n",
    "\n",
    "# b) Conditional probability P(House | Car) = P(Car and House) / P(Car)\n",
    "conditional_probability = p_both / p_car\n",
    "\n",
    "# c) Marginal probability of owning a car (bu da verilib)\n",
    "marginal_probability_car = p_car\n",
    "\n",
    "# Çap\n",
    "print(\"a) Joint probability of owning both =\", joint_probability)\n",
    "print(\"b) Conditional probability of owning a house given owning a car =\", conditional_probability)\n",
    "print(\"c) Marginal probability of owning a car =\", marginal_probability_car)\n"
   ]
  },
  {
   "cell_type": "code",
   "execution_count": 56,
   "id": "176f289e",
   "metadata": {},
   "outputs": [
    {
     "name": "stdout",
     "output_type": "stream",
     "text": [
      "a) Probability that a student passed at least one subject = 0.7999999999999998\n",
      "b) Conditional probability of passing Math given passing English = 1.4\n",
      "c) Probability of passing both = 0.5\n"
     ]
    }
   ],
   "source": [
    "#Hometask 3.2\n",
    "\n",
    "p_Math_passed_of_students = 0.60\n",
    "p_English_passed = 0.70\n",
    "p_both_passed = 0.50\n",
    "\n",
    "\n",
    "#a) Probability that a student passed at least one subject \n",
    "Math_English_passed = p_Math_passed_of_students + p_English_passed - p_both_passed\n",
    "\n",
    "\n",
    "#b) Conditional probability of passing Math given passing English \n",
    "Conditional_Math_English = p_English_passed / p_both_passed\n",
    "\n",
    "#c) Probability of passing both\n",
    "\n",
    "\n",
    "print(\"a) Probability that a student passed at least one subject =\", Math_English_passed)\n",
    "print(\"b) Conditional probability of passing Math given passing English =\", Conditional_Math_English)\n",
    "print(\"c) Probability of passing both =\", p_both_passed)\n",
    "\n"
   ]
  },
  {
   "cell_type": "markdown",
   "id": "22a32b66",
   "metadata": {},
   "source": [
    "## 3. Bayes’ Theorem with Practical Examples\n",
    "### Hometask 1\n",
    "A disease affects 1% of the population. A test correctly identifies the disease 95% of the time (true positive rate) but incorrectly gives a positive result 2% of the time for healthy people (false positive rate). If a person tests positive, what is the probability they have the disease?\n",
    "\n",
    "---\n",
    "### Hometask 2\n",
    "A machine has a 3% defect rate. If defective, 90% of the time it fails the quality check. If not defective, it still fails the check 5% of the time. If a product fails the check, what is the probability it is defective?\n",
    "\n",
    "---\n",
    "### Hometask 3\n",
    "In a certain city:\n",
    "- 40% of taxis are green, 60% are blue\n",
    "- Witnesses identify taxi colors correctly 80% of the time\n",
    "If a witness says the taxi was green, what is the probability it was actually green?"
   ]
  },
  {
   "cell_type": "code",
   "execution_count": 81,
   "id": "a7a25c74",
   "metadata": {},
   "outputs": [
    {
     "name": "stdout",
     "output_type": "stream",
     "text": [
      "Test pozitiv çıxanda xəstə olma ehtimalı: 0.3242 (32.42%)\n"
     ]
    }
   ],
   "source": [
    "#Hometask 1.3\n",
    "\n",
    "P_Disease = 0.01          \n",
    "P_Pos_given_Disease = 0.95 \n",
    "P_Pos_given_Healthy = 0.02 \n",
    "\n",
    "# Sağlam olma ehtimalı\n",
    "P_Healthy = 1 - P_Disease\n",
    "\n",
    "# Bayes teoremi: P(Disease | Positive)\n",
    "P_Disease_given_Pos = (P_Pos_given_Disease * P_Disease) / (\n",
    "    (P_Pos_given_Disease * P_Disease) + (P_Pos_given_Healthy * P_Healthy)\n",
    ")\n",
    "\n",
    "# Nəticəni çap edək\n",
    "print(f\"Test pozitiv çıxanda xəstə olma ehtimalı: {P_Disease_given_Pos:.4f} ({P_Disease_given_Pos*100:.2f}%)\")\n"
   ]
  },
  {
   "cell_type": "code",
   "execution_count": 82,
   "id": "f0b62edd",
   "metadata": {},
   "outputs": [
    {
     "name": "stdout",
     "output_type": "stream",
     "text": [
      "Testdən keçməyən məhsulun qüsurlu olma ehtimalı: 0.3576 (35.76%)\n"
     ]
    }
   ],
   "source": [
    "#Hometask 2.3\n",
    " \n",
    "P_Defective = 0.03             \n",
    "P_Fail_given_Defective = 0.90   \n",
    "P_Fail_given_Good = 0.05       \n",
    "\n",
    "\n",
    "P_Good = 1 - P_Defective\n",
    "\n",
    "P_Defective_given_Fail = (P_Fail_given_Defective * P_Defective) / (\n",
    "    (P_Fail_given_Defective * P_Defective) + (P_Fail_given_Good * P_Good)\n",
    ")\n",
    "\n",
    "\n",
    "print(f\"Testdən keçməyən məhsulun qüsurlu olma ehtimalı: {P_Defective_given_Fail:.4f} ({P_Defective_given_Fail*100:.2f}%)\")\n",
    "\n"
   ]
  },
  {
   "cell_type": "code",
   "execution_count": 74,
   "id": "b15ae5d3",
   "metadata": {},
   "outputs": [
    {
     "name": "stdout",
     "output_type": "stream",
     "text": [
      "Şahid yaşıl dedikdə taksinin həqiqətən yaşıl olma ehtimalı: 0.7273 (72.73%)\n"
     ]
    }
   ],
   "source": [
    "#Hometask 3.3\n",
    "\n",
    "P_Green = 0.40       \n",
    "P_Blue = 0.60         \n",
    "P_Correct = 0.80          \n",
    "\n",
    "\n",
    "P_SayGreen_given_Green = P_Correct          \n",
    "P_SayGreen_given_Blue = 1 - P_Correct       \n",
    "\n",
    "P_Green_given_SayGreen = (P_SayGreen_given_Green * P_Green) / (\n",
    "    (P_SayGreen_given_Green * P_Green) + (P_SayGreen_given_Blue * P_Blue)\n",
    ")\n",
    "\n",
    "# Nəticə\n",
    "print(f\"Şahid yaşıl dedikdə taksinin həqiqətən yaşıl olma ehtimalı: {P_Green_given_SayGreen:.4f} ({P_Green_given_SayGreen*100:.2f}%)\")\n"
   ]
  },
  {
   "cell_type": "markdown",
   "id": "08fadc6d",
   "metadata": {},
   "source": [
    "## 4. Random Sampling and Probability Distributions\n",
    "### Hometask 1\n",
    "Generate 1000 random samples from a fair six-sided die. Plot the frequency distribution and compare with the theoretical probability distribution.\n",
    "\n",
    "---\n",
    "### Hometask 2\n",
    "Simulate 500 coin flips and compute the proportion of heads and tails. Compare with the expected probability.\n",
    "\n",
    "---\n",
    "### Hometask 3\n",
    "A factory produces light bulbs with a mean life of 1200 hours and a standard deviation of 100 hours. Assuming normal distribution, find the probability that a bulb lasts:\n",
    "a) More than 1300 hours\n",
    "b) Between 1100 and 1300 hours"
   ]
  },
  {
   "cell_type": "code",
   "execution_count": 60,
   "id": "8559cf5b",
   "metadata": {},
   "outputs": [
    {
     "data": {
      "image/png": "[encoded data removed]",
      "text/plain": [
       "<Figure size 800x500 with 1 Axes>"
      ]
     },
     "metadata": {},
     "output_type": "display_data"
    }
   ],
   "source": [
    "#Hometask 1.4\n",
    "\n",
    "import numpy as np\n",
    "import matplotlib.pyplot as plt\n",
    "\n",
    "#Parametrlər\n",
    "n_samples = 1000\n",
    "sides = 6\n",
    "\n",
    "#1000 \n",
    "rolls = np.random.randint(1, sides + 1, size=n_samples)\n",
    "\n",
    "\n",
    "unique, counts = np.unique(rolls, return_counts=True)\n",
    "freq = counts / n_samples  \n",
    "\n",
    "theoretical_prob = np.ones(sides) / sides\n",
    "\n",
    "plt.figure(figsize=(8, 5))\n",
    "plt.bar(unique, freq, color='skyblue', label='Faktiki Nisbi Tezlik')\n",
    "plt.plot(unique, theoretical_prob, 'ro-', label='Nəzəri Ehtimal (1/6)', linewidth=2)\n",
    "\n",
    "plt.xticks(range(1, sides + 1))\n",
    "plt.xlabel('Zar üzləri')\n",
    "plt.ylabel('Ehtimal')\n",
    "plt.title('Zar Atışlarının Faktiki və Nəzəri Paylanması')\n",
    "plt.legend()\n",
    "plt.grid(axis='y', linestyle='--', alpha=0.7)\n",
    "plt.show()\n"
   ]
  },
  {
   "cell_type": "code",
   "execution_count": 63,
   "id": "8b2c7485",
   "metadata": {},
   "outputs": [
    {
     "name": "stdout",
     "output_type": "stream",
     "text": [
      "Baş sayı: 241, Nisbət: 0.482 (Nəzəri: 0.5)\n",
      "Quyruq sayı: 259, Nisbət: 0.518 (Nəzəri: 0.5)\n"
     ]
    }
   ],
   "source": [
    "#Hometask 2.4\n",
    "\n",
    "import numpy as np\n",
    "\n",
    "n_flips = 500\n",
    "\n",
    "flips = np.random.randint(0, 2, size=n_flips)\n",
    "\n",
    "\n",
    "heads_count = np.sum(flips == 1)\n",
    "tails_count = np.sum(flips == 0)\n",
    "\n",
    "heads_prop = heads_count / n_flips\n",
    "tails_prop = tails_count / n_flips\n",
    "\n",
    "expected_prob = 0.5\n",
    "\n",
    "\n",
    "print(f\"Baş sayı: {heads_count}, Nisbət: {heads_prop:.3f} (Nəzəri: {expected_prob})\")\n",
    "print(f\"Quyruq sayı: {tails_count}, Nisbət: {tails_prop:.3f} (Nəzəri: {expected_prob})\")\n"
   ]
  },
  {
   "cell_type": "code",
   "execution_count": 65,
   "id": "c0489471",
   "metadata": {},
   "outputs": [
    {
     "name": "stdout",
     "output_type": "stream",
     "text": [
      "a) P(X > 1300) = 0.1587\n",
      "b) P(1100 < X < 1300) = 0.6827\n"
     ]
    }
   ],
   "source": [
    "#Hometask 3.4\n",
    "\n",
    "from scipy.stats import norm\n",
    "\n",
    "mean = 1200\n",
    "std_dev = 100\n",
    "\n",
    "# a) P(X > 1300)\n",
    "p_more_1300 = 1 - norm.cdf(1300, loc=mean, scale=std_dev)\n",
    "\n",
    "# b) P(1100 < X < 1300)\n",
    "p_between_1100_1300 = norm.cdf(1300, loc=mean, scale=std_dev) - norm.cdf(1100, loc=mean, scale=std_dev)\n",
    "\n",
    "print(f\"a) P(X > 1300) = {p_more_1300:.4f}\")\n",
    "print(f\"b) P(1100 < X < 1300) = {p_between_1100_1300:.4f}\")\n"
   ]
  },
  {
   "cell_type": "markdown",
   "id": "863e24f3",
   "metadata": {},
   "source": [
    "## 5. Project: Predict Health Insurance Claims using Probability Models\n",
    "### Objective\n",
    "Use probability theory to predict the likelihood of a person making a health insurance claim based on demographic and health data.\n",
    "### Steps:\n",
    "1. Load the provided dataset of health insurance policyholders.\n",
    "2. Explore the dataset: check for missing values, data types, summary statistics.\n",
    "3. Compute basic probabilities (e.g., proportion of smokers, proportion of claims).\n",
    "4. Compute joint and conditional probabilities (e.g., P(Claim | Smoker)).\n",
    "5. Apply Bayes’ Theorem to estimate the probability of a claim given certain risk factors.\n",
    "6. Create a simulation model to estimate claims for a new set of policyholders.\n",
    "7. Interpret the results and discuss the implications for insurance pricing."
   ]
  },
  {
   "cell_type": "code",
   "execution_count": null,
   "id": "15d641ec",
   "metadata": {},
   "outputs": [],
   "source": [
    "#Sağlamlıq sığortası sahiblərinin təqdim olunmuş məlumat dəstini yükləyin.\n",
    "#Verilənlər dəstini araşdırın: çatışmayan dəyərləri, məlumat növlərini, xülasə statistikasını yoxlayın.\n",
    "#Əsas ehtimalları hesablayın (məsələn, siqaret çəkənlərin nisbəti, iddiaların nisbəti).\n",
    "#Birgə və şərti ehtimalları hesablayın (məsələn, P(İddia | Siqaret çəkən)).\n",
    "#Müəyyən risk faktorları nəzərə alınmaqla iddianın ehtimalını qiymətləndirmək üçün Bayes teoremini tətbiq edin.\n",
    "#Sığortalıların yeni dəsti üçün iddiaları qiymətləndirmək üçün simulyasiya modeli yaradın.\n",
    "#Nəticələri şərh edin və sığorta qiymətləri ilə bağlı nəticələri müzakirə edin."
   ]
  },
  {
   "cell_type": "code",
   "execution_count": 1,
   "id": "f8d396c0",
   "metadata": {},
   "outputs": [
    {
     "data": {
      "text/html": [
       "<div>\n",
       "<style scoped>\n",
       "    .dataframe tbody tr th:only-of-type {\n",
       "        vertical-align: middle;\n",
       "    }\n",
       "\n",
       "    .dataframe tbody tr th {\n",
       "        vertical-align: top;\n",
       "    }\n",
       "\n",
       "    .dataframe thead th {\n",
       "        text-align: right;\n",
       "    }\n",
       "</style>\n",
       "<table border=\"1\" class=\"dataframe\">\n",
       "  <thead>\n",
       "    <tr style=\"text-align: right;\">\n",
       "      <th></th>\n",
       "      <th>ClaimID</th>\n",
       "      <th>PatientID</th>\n",
       "      <th>ProviderID</th>\n",
       "      <th>ClaimAmount</th>\n",
       "      <th>ClaimDate</th>\n",
       "      <th>DiagnosisCode</th>\n",
       "      <th>ProcedureCode</th>\n",
       "      <th>PatientAge</th>\n",
       "      <th>PatientGender</th>\n",
       "      <th>ProviderSpecialty</th>\n",
       "      <th>ClaimStatus</th>\n",
       "      <th>PatientIncome</th>\n",
       "      <th>PatientMaritalStatus</th>\n",
       "      <th>PatientEmploymentStatus</th>\n",
       "      <th>ProviderLocation</th>\n",
       "      <th>ClaimType</th>\n",
       "      <th>ClaimSubmissionMethod</th>\n",
       "    </tr>\n",
       "  </thead>\n",
       "  <tbody>\n",
       "    <tr>\n",
       "      <th>0</th>\n",
       "      <td>10944daf-f7d5-4e1d-8216-72ffa609fe41</td>\n",
       "      <td>8552381d-7960-4f64-b190-b20b8ada00a1</td>\n",
       "      <td>4a4cb19c-4863-41cf-84b0-c2b21aace988</td>\n",
       "      <td>3807.95</td>\n",
       "      <td>6/7/2024</td>\n",
       "      <td>yy006</td>\n",
       "      <td>hd662</td>\n",
       "      <td>16</td>\n",
       "      <td>M</td>\n",
       "      <td>Cardiology</td>\n",
       "      <td>Pending</td>\n",
       "      <td>90279.43</td>\n",
       "      <td>Married</td>\n",
       "      <td>Retired</td>\n",
       "      <td>Jameshaven</td>\n",
       "      <td>Routine</td>\n",
       "      <td>Paper</td>\n",
       "    </tr>\n",
       "    <tr>\n",
       "      <th>1</th>\n",
       "      <td>fcbebb25-fc24-4c0f-a966-749edcf83fb1</td>\n",
       "      <td>327f43ad-e3bd-4473-a9ed-46483a0a156f</td>\n",
       "      <td>422e02dd-c1fd-43dd-8af4-0c3523f997b1</td>\n",
       "      <td>9512.07</td>\n",
       "      <td>5/30/2023</td>\n",
       "      <td>tD052</td>\n",
       "      <td>mH831</td>\n",
       "      <td>27</td>\n",
       "      <td>M</td>\n",
       "      <td>Pediatrics</td>\n",
       "      <td>Approved</td>\n",
       "      <td>130448.02</td>\n",
       "      <td>Single</td>\n",
       "      <td>Student</td>\n",
       "      <td>Beltrantown</td>\n",
       "      <td>Routine</td>\n",
       "      <td>Online</td>\n",
       "    </tr>\n",
       "    <tr>\n",
       "      <th>2</th>\n",
       "      <td>9e9983e7-9ea7-45f5-84d8-ce49ccd8a4a1</td>\n",
       "      <td>6f3acdf7-73aa-4afa-9c2e-b25b27bdb5b0</td>\n",
       "      <td>f7733b3f-0980-47b5-a7a0-ee390869355b</td>\n",
       "      <td>7346.74</td>\n",
       "      <td>9/27/2022</td>\n",
       "      <td>zx832</td>\n",
       "      <td>dg637</td>\n",
       "      <td>40</td>\n",
       "      <td>F</td>\n",
       "      <td>Cardiology</td>\n",
       "      <td>Pending</td>\n",
       "      <td>82417.54</td>\n",
       "      <td>Divorced</td>\n",
       "      <td>Employed</td>\n",
       "      <td>West Charlesport</td>\n",
       "      <td>Emergency</td>\n",
       "      <td>Online</td>\n",
       "    </tr>\n",
       "    <tr>\n",
       "      <th>3</th>\n",
       "      <td>a06273ed-44bb-452b-bbad-8618de080494</td>\n",
       "      <td>5d58e183-701e-406c-a8c6-5b73cac5e912</td>\n",
       "      <td>f7a04581-de96-44ee-b773-8adac02baa59</td>\n",
       "      <td>6026.72</td>\n",
       "      <td>6/25/2023</td>\n",
       "      <td>kr421</td>\n",
       "      <td>kG326</td>\n",
       "      <td>65</td>\n",
       "      <td>M</td>\n",
       "      <td>Neurology</td>\n",
       "      <td>Pending</td>\n",
       "      <td>68516.96</td>\n",
       "      <td>Widowed</td>\n",
       "      <td>Student</td>\n",
       "      <td>West Aprilhaven</td>\n",
       "      <td>Routine</td>\n",
       "      <td>Phone</td>\n",
       "    </tr>\n",
       "    <tr>\n",
       "      <th>4</th>\n",
       "      <td>f702a717-254b-4cff-a0c7-8395db2f6616</td>\n",
       "      <td>8a8ebdf6-3af0-4f14-82f3-37b937c3d270</td>\n",
       "      <td>b80b9e77-97f0-47d7-b561-19f9658a7bdf</td>\n",
       "      <td>1644.58</td>\n",
       "      <td>7/24/2023</td>\n",
       "      <td>LZ261</td>\n",
       "      <td>cx805</td>\n",
       "      <td>24</td>\n",
       "      <td>M</td>\n",
       "      <td>General Practice</td>\n",
       "      <td>Pending</td>\n",
       "      <td>84122.17</td>\n",
       "      <td>Married</td>\n",
       "      <td>Student</td>\n",
       "      <td>Lake Michele</td>\n",
       "      <td>Inpatient</td>\n",
       "      <td>Phone</td>\n",
       "    </tr>\n",
       "  </tbody>\n",
       "</table>\n",
       "</div>"
      ],
      "text/plain": [
       "                                ClaimID                             PatientID  \\\n",
       "0  10944daf-f7d5-4e1d-8216-72ffa609fe41  8552381d-7960-4f64-b190-b20b8ada00a1   \n",
       "1  fcbebb25-fc24-4c0f-a966-749edcf83fb1  327f43ad-e3bd-4473-a9ed-46483a0a156f   \n",
       "2  9e9983e7-9ea7-45f5-84d8-ce49ccd8a4a1  6f3acdf7-73aa-4afa-9c2e-b25b27bdb5b0   \n",
       "3  a06273ed-44bb-452b-bbad-8618de080494  5d58e183-701e-406c-a8c6-5b73cac5e912   \n",
       "4  f702a717-254b-4cff-a0c7-8395db2f6616  8a8ebdf6-3af0-4f14-82f3-37b937c3d270   \n",
       "\n",
       "                             ProviderID  ClaimAmount  ClaimDate DiagnosisCode  \\\n",
       "0  4a4cb19c-4863-41cf-84b0-c2b21aace988      3807.95   6/7/2024         yy006   \n",
       "1  422e02dd-c1fd-43dd-8af4-0c3523f997b1      9512.07  5/30/2023         tD052   \n",
       "2  f7733b3f-0980-47b5-a7a0-ee390869355b      7346.74  9/27/2022         zx832   \n",
       "3  f7a04581-de96-44ee-b773-8adac02baa59      6026.72  6/25/2023         kr421   \n",
       "4  b80b9e77-97f0-47d7-b561-19f9658a7bdf      1644.58  7/24/2023         LZ261   \n",
       "\n",
       "  ProcedureCode  PatientAge PatientGender ProviderSpecialty ClaimStatus  \\\n",
       "0         hd662          16             M        Cardiology     Pending   \n",
       "1         mH831          27             M        Pediatrics    Approved   \n",
       "2         dg637          40             F        Cardiology     Pending   \n",
       "3         kG326          65             M         Neurology     Pending   \n",
       "4         cx805          24             M  General Practice     Pending   \n",
       "\n",
       "   PatientIncome PatientMaritalStatus PatientEmploymentStatus  \\\n",
       "0       90279.43              Married                 Retired   \n",
       "1      130448.02               Single                 Student   \n",
       "2       82417.54             Divorced                Employed   \n",
       "3       68516.96              Widowed                 Student   \n",
       "4       84122.17              Married                 Student   \n",
       "\n",
       "   ProviderLocation  ClaimType ClaimSubmissionMethod  \n",
       "0        Jameshaven    Routine                 Paper  \n",
       "1       Beltrantown    Routine                Online  \n",
       "2  West Charlesport  Emergency                Online  \n",
       "3   West Aprilhaven    Routine                 Phone  \n",
       "4      Lake Michele  Inpatient                 Phone  "
      ]
     },
     "execution_count": 1,
     "metadata": {},
     "output_type": "execute_result"
    }
   ],
   "source": [
    "import pandas as pd\n",
    "\n",
    "# Dataseti yükləyirik\n",
    "data = pd.read_csv('enhanced_health_insurance_claims.csv')\n",
    "data.head()  # ilk 5 sətri göstərir\n"
   ]
  },
  {
   "cell_type": "code",
   "execution_count": 2,
   "id": "bb0ea168",
   "metadata": {},
   "outputs": [
    {
     "name": "stdout",
     "output_type": "stream",
     "text": [
      "<class 'pandas.core.frame.DataFrame'>\n",
      "RangeIndex: 4500 entries, 0 to 4499\n",
      "Data columns (total 17 columns):\n",
      " #   Column                   Non-Null Count  Dtype  \n",
      "---  ------                   --------------  -----  \n",
      " 0   ClaimID                  4500 non-null   object \n",
      " 1   PatientID                4500 non-null   object \n",
      " 2   ProviderID               4500 non-null   object \n",
      " 3   ClaimAmount              4500 non-null   float64\n",
      " 4   ClaimDate                4500 non-null   object \n",
      " 5   DiagnosisCode            4500 non-null   object \n",
      " 6   ProcedureCode            4500 non-null   object \n",
      " 7   PatientAge               4500 non-null   int64  \n",
      " 8   PatientGender            4500 non-null   object \n",
      " 9   ProviderSpecialty        4500 non-null   object \n",
      " 10  ClaimStatus              4500 non-null   object \n",
      " 11  PatientIncome            4500 non-null   float64\n",
      " 12  PatientMaritalStatus     4500 non-null   object \n",
      " 13  PatientEmploymentStatus  4500 non-null   object \n",
      " 14  ProviderLocation         4500 non-null   object \n",
      " 15  ClaimType                4500 non-null   object \n",
      " 16  ClaimSubmissionMethod    4500 non-null   object \n",
      "dtypes: float64(2), int64(1), object(14)\n",
      "memory usage: 597.8+ KB\n"
     ]
    },
    {
     "data": {
      "text/plain": [
       "ClaimID                    0\n",
       "PatientID                  0\n",
       "ProviderID                 0\n",
       "ClaimAmount                0\n",
       "ClaimDate                  0\n",
       "DiagnosisCode              0\n",
       "ProcedureCode              0\n",
       "PatientAge                 0\n",
       "PatientGender              0\n",
       "ProviderSpecialty          0\n",
       "ClaimStatus                0\n",
       "PatientIncome              0\n",
       "PatientMaritalStatus       0\n",
       "PatientEmploymentStatus    0\n",
       "ProviderLocation           0\n",
       "ClaimType                  0\n",
       "ClaimSubmissionMethod      0\n",
       "dtype: int64"
      ]
     },
     "execution_count": 2,
     "metadata": {},
     "output_type": "execute_result"
    }
   ],
   "source": [
    "data.info()        \n",
    "data.describe()    \n",
    "data.isnull().sum()  "
   ]
  },
  {
   "cell_type": "code",
   "execution_count": 4,
   "id": "66991ce2",
   "metadata": {},
   "outputs": [
    {
     "data": {
      "text/html": [
       "<div>\n",
       "<style scoped>\n",
       "    .dataframe tbody tr th:only-of-type {\n",
       "        vertical-align: middle;\n",
       "    }\n",
       "\n",
       "    .dataframe tbody tr th {\n",
       "        vertical-align: top;\n",
       "    }\n",
       "\n",
       "    .dataframe thead th {\n",
       "        text-align: right;\n",
       "    }\n",
       "</style>\n",
       "<table border=\"1\" class=\"dataframe\">\n",
       "  <thead>\n",
       "    <tr style=\"text-align: right;\">\n",
       "      <th></th>\n",
       "      <th>ClaimID</th>\n",
       "      <th>PatientID</th>\n",
       "      <th>ProviderID</th>\n",
       "      <th>ClaimAmount</th>\n",
       "      <th>ClaimDate</th>\n",
       "      <th>DiagnosisCode</th>\n",
       "      <th>ProcedureCode</th>\n",
       "      <th>PatientAge</th>\n",
       "      <th>PatientGender</th>\n",
       "      <th>ProviderSpecialty</th>\n",
       "      <th>ClaimStatus</th>\n",
       "      <th>PatientIncome</th>\n",
       "      <th>PatientMaritalStatus</th>\n",
       "      <th>PatientEmploymentStatus</th>\n",
       "      <th>ProviderLocation</th>\n",
       "      <th>ClaimType</th>\n",
       "      <th>ClaimSubmissionMethod</th>\n",
       "    </tr>\n",
       "  </thead>\n",
       "  <tbody>\n",
       "    <tr>\n",
       "      <th>0</th>\n",
       "      <td>10944daf-f7d5-4e1d-8216-72ffa609fe41</td>\n",
       "      <td>8552381d-7960-4f64-b190-b20b8ada00a1</td>\n",
       "      <td>4a4cb19c-4863-41cf-84b0-c2b21aace988</td>\n",
       "      <td>3807.95</td>\n",
       "      <td>6/7/2024</td>\n",
       "      <td>yy006</td>\n",
       "      <td>hd662</td>\n",
       "      <td>16</td>\n",
       "      <td>M</td>\n",
       "      <td>Cardiology</td>\n",
       "      <td>Pending</td>\n",
       "      <td>90279.43</td>\n",
       "      <td>Married</td>\n",
       "      <td>Retired</td>\n",
       "      <td>Jameshaven</td>\n",
       "      <td>Routine</td>\n",
       "      <td>Paper</td>\n",
       "    </tr>\n",
       "    <tr>\n",
       "      <th>1</th>\n",
       "      <td>fcbebb25-fc24-4c0f-a966-749edcf83fb1</td>\n",
       "      <td>327f43ad-e3bd-4473-a9ed-46483a0a156f</td>\n",
       "      <td>422e02dd-c1fd-43dd-8af4-0c3523f997b1</td>\n",
       "      <td>9512.07</td>\n",
       "      <td>5/30/2023</td>\n",
       "      <td>tD052</td>\n",
       "      <td>mH831</td>\n",
       "      <td>27</td>\n",
       "      <td>M</td>\n",
       "      <td>Pediatrics</td>\n",
       "      <td>Approved</td>\n",
       "      <td>130448.02</td>\n",
       "      <td>Single</td>\n",
       "      <td>Student</td>\n",
       "      <td>Beltrantown</td>\n",
       "      <td>Routine</td>\n",
       "      <td>Online</td>\n",
       "    </tr>\n",
       "    <tr>\n",
       "      <th>2</th>\n",
       "      <td>9e9983e7-9ea7-45f5-84d8-ce49ccd8a4a1</td>\n",
       "      <td>6f3acdf7-73aa-4afa-9c2e-b25b27bdb5b0</td>\n",
       "      <td>f7733b3f-0980-47b5-a7a0-ee390869355b</td>\n",
       "      <td>7346.74</td>\n",
       "      <td>9/27/2022</td>\n",
       "      <td>zx832</td>\n",
       "      <td>dg637</td>\n",
       "      <td>40</td>\n",
       "      <td>F</td>\n",
       "      <td>Cardiology</td>\n",
       "      <td>Pending</td>\n",
       "      <td>82417.54</td>\n",
       "      <td>Divorced</td>\n",
       "      <td>Employed</td>\n",
       "      <td>West Charlesport</td>\n",
       "      <td>Emergency</td>\n",
       "      <td>Online</td>\n",
       "    </tr>\n",
       "    <tr>\n",
       "      <th>3</th>\n",
       "      <td>a06273ed-44bb-452b-bbad-8618de080494</td>\n",
       "      <td>5d58e183-701e-406c-a8c6-5b73cac5e912</td>\n",
       "      <td>f7a04581-de96-44ee-b773-8adac02baa59</td>\n",
       "      <td>6026.72</td>\n",
       "      <td>6/25/2023</td>\n",
       "      <td>kr421</td>\n",
       "      <td>kG326</td>\n",
       "      <td>65</td>\n",
       "      <td>M</td>\n",
       "      <td>Neurology</td>\n",
       "      <td>Pending</td>\n",
       "      <td>68516.96</td>\n",
       "      <td>Widowed</td>\n",
       "      <td>Student</td>\n",
       "      <td>West Aprilhaven</td>\n",
       "      <td>Routine</td>\n",
       "      <td>Phone</td>\n",
       "    </tr>\n",
       "    <tr>\n",
       "      <th>4</th>\n",
       "      <td>f702a717-254b-4cff-a0c7-8395db2f6616</td>\n",
       "      <td>8a8ebdf6-3af0-4f14-82f3-37b937c3d270</td>\n",
       "      <td>b80b9e77-97f0-47d7-b561-19f9658a7bdf</td>\n",
       "      <td>1644.58</td>\n",
       "      <td>7/24/2023</td>\n",
       "      <td>LZ261</td>\n",
       "      <td>cx805</td>\n",
       "      <td>24</td>\n",
       "      <td>M</td>\n",
       "      <td>General Practice</td>\n",
       "      <td>Pending</td>\n",
       "      <td>84122.17</td>\n",
       "      <td>Married</td>\n",
       "      <td>Student</td>\n",
       "      <td>Lake Michele</td>\n",
       "      <td>Inpatient</td>\n",
       "      <td>Phone</td>\n",
       "    </tr>\n",
       "  </tbody>\n",
       "</table>\n",
       "</div>"
      ],
      "text/plain": [
       "                                ClaimID                             PatientID  \\\n",
       "0  10944daf-f7d5-4e1d-8216-72ffa609fe41  8552381d-7960-4f64-b190-b20b8ada00a1   \n",
       "1  fcbebb25-fc24-4c0f-a966-749edcf83fb1  327f43ad-e3bd-4473-a9ed-46483a0a156f   \n",
       "2  9e9983e7-9ea7-45f5-84d8-ce49ccd8a4a1  6f3acdf7-73aa-4afa-9c2e-b25b27bdb5b0   \n",
       "3  a06273ed-44bb-452b-bbad-8618de080494  5d58e183-701e-406c-a8c6-5b73cac5e912   \n",
       "4  f702a717-254b-4cff-a0c7-8395db2f6616  8a8ebdf6-3af0-4f14-82f3-37b937c3d270   \n",
       "\n",
       "                             ProviderID  ClaimAmount  ClaimDate DiagnosisCode  \\\n",
       "0  4a4cb19c-4863-41cf-84b0-c2b21aace988      3807.95   6/7/2024         yy006   \n",
       "1  422e02dd-c1fd-43dd-8af4-0c3523f997b1      9512.07  5/30/2023         tD052   \n",
       "2  f7733b3f-0980-47b5-a7a0-ee390869355b      7346.74  9/27/2022         zx832   \n",
       "3  f7a04581-de96-44ee-b773-8adac02baa59      6026.72  6/25/2023         kr421   \n",
       "4  b80b9e77-97f0-47d7-b561-19f9658a7bdf      1644.58  7/24/2023         LZ261   \n",
       "\n",
       "  ProcedureCode  PatientAge PatientGender ProviderSpecialty ClaimStatus  \\\n",
       "0         hd662          16             M        Cardiology     Pending   \n",
       "1         mH831          27             M        Pediatrics    Approved   \n",
       "2         dg637          40             F        Cardiology     Pending   \n",
       "3         kG326          65             M         Neurology     Pending   \n",
       "4         cx805          24             M  General Practice     Pending   \n",
       "\n",
       "   PatientIncome PatientMaritalStatus PatientEmploymentStatus  \\\n",
       "0       90279.43              Married                 Retired   \n",
       "1      130448.02               Single                 Student   \n",
       "2       82417.54             Divorced                Employed   \n",
       "3       68516.96              Widowed                 Student   \n",
       "4       84122.17              Married                 Student   \n",
       "\n",
       "   ProviderLocation  ClaimType ClaimSubmissionMethod  \n",
       "0        Jameshaven    Routine                 Paper  \n",
       "1       Beltrantown    Routine                Online  \n",
       "2  West Charlesport  Emergency                Online  \n",
       "3   West Aprilhaven    Routine                 Phone  \n",
       "4      Lake Michele  Inpatient                 Phone  "
      ]
     },
     "execution_count": 4,
     "metadata": {},
     "output_type": "execute_result"
    }
   ],
   "source": [
    "#import pandas as pd\n",
    "#data = pd.read_csv('health_policies.csv')\n",
    "#data.head()\n",
    "\n",
    "import pandas as pd\n",
    "\n",
    "# Dataseti yükləyirik\n",
    "data = pd.read_csv('enhanced_health_insurance_claims.csv')\n",
    "data.head()  # ilk 5 sətri göstərir\n"
   ]
  },
  {
   "cell_type": "code",
   "execution_count": 5,
   "id": "a60b5bae",
   "metadata": {
    "scrolled": true
   },
   "outputs": [
    {
     "name": "stdout",
     "output_type": "stream",
     "text": [
      "<class 'pandas.core.frame.DataFrame'>\n",
      "RangeIndex: 4500 entries, 0 to 4499\n",
      "Data columns (total 17 columns):\n",
      " #   Column                   Non-Null Count  Dtype  \n",
      "---  ------                   --------------  -----  \n",
      " 0   ClaimID                  4500 non-null   object \n",
      " 1   PatientID                4500 non-null   object \n",
      " 2   ProviderID               4500 non-null   object \n",
      " 3   ClaimAmount              4500 non-null   float64\n",
      " 4   ClaimDate                4500 non-null   object \n",
      " 5   DiagnosisCode            4500 non-null   object \n",
      " 6   ProcedureCode            4500 non-null   object \n",
      " 7   PatientAge               4500 non-null   int64  \n",
      " 8   PatientGender            4500 non-null   object \n",
      " 9   ProviderSpecialty        4500 non-null   object \n",
      " 10  ClaimStatus              4500 non-null   object \n",
      " 11  PatientIncome            4500 non-null   float64\n",
      " 12  PatientMaritalStatus     4500 non-null   object \n",
      " 13  PatientEmploymentStatus  4500 non-null   object \n",
      " 14  ProviderLocation         4500 non-null   object \n",
      " 15  ClaimType                4500 non-null   object \n",
      " 16  ClaimSubmissionMethod    4500 non-null   object \n",
      "dtypes: float64(2), int64(1), object(14)\n",
      "memory usage: 597.8+ KB\n",
      "None\n"
     ]
    }
   ],
   "source": [
    "df = pd.read_csv('enhanced_health_insurance_claims.csv')\n",
    "print(df.info())"
   ]
  },
  {
   "cell_type": "code",
   "execution_count": 6,
   "id": "1bd14d0d",
   "metadata": {},
   "outputs": [
    {
     "data": {
      "text/plain": [
       "(4500, 17)"
      ]
     },
     "execution_count": 6,
     "metadata": {},
     "output_type": "execute_result"
    }
   ],
   "source": [
    "df.shape"
   ]
  },
  {
   "cell_type": "code",
   "execution_count": 9,
   "id": "87194e19",
   "metadata": {},
   "outputs": [
    {
     "name": "stdout",
     "output_type": "stream",
     "text": [
      "ClaimID                            object\n",
      "PatientID                          object\n",
      "ProviderID                         object\n",
      "ClaimAmount                       float64\n",
      "ClaimDate                  datetime64[ns]\n",
      "DiagnosisCode                      object\n",
      "ProcedureCode                      object\n",
      "PatientAge                          int64\n",
      "PatientGender                      object\n",
      "ProviderSpecialty                  object\n",
      "ClaimStatus                        object\n",
      "PatientIncome                     float64\n",
      "PatientMaritalStatus               object\n",
      "PatientEmploymentStatus            object\n",
      "ProviderLocation                   object\n",
      "ClaimType                          object\n",
      "ClaimSubmissionMethod              object\n",
      "dtype: object\n"
     ]
    }
   ],
   "source": [
    "print(df.dtypes)"
   ]
  },
  {
   "cell_type": "code",
   "execution_count": 10,
   "id": "b60c2f5c",
   "metadata": {},
   "outputs": [
    {
     "name": "stdout",
     "output_type": "stream",
     "text": [
      "0      2024-06-07\n",
      "1      2023-05-30\n",
      "2      2022-09-27\n",
      "3      2023-06-25\n",
      "4      2023-07-24\n",
      "          ...    \n",
      "4495   2023-04-07\n",
      "4496   2023-01-05\n",
      "4497   2023-11-16\n",
      "4498   2023-10-07\n",
      "4499   2023-07-26\n",
      "Name: ClaimDate, Length: 4500, dtype: datetime64[ns]\n"
     ]
    }
   ],
   "source": [
    "df['ClaimDate']=pd.to_datetime(df['ClaimDate'])\n",
    "print (df['ClaimDate'])"
   ]
  },
  {
   "cell_type": "code",
   "execution_count": 11,
   "id": "581ca704",
   "metadata": {},
   "outputs": [
    {
     "name": "stdout",
     "output_type": "stream",
     "text": [
      "ClaimID                    0\n",
      "PatientID                  0\n",
      "ProviderID                 0\n",
      "ClaimAmount                0\n",
      "ClaimDate                  0\n",
      "DiagnosisCode              0\n",
      "ProcedureCode              0\n",
      "PatientAge                 0\n",
      "PatientGender              0\n",
      "ProviderSpecialty          0\n",
      "ClaimStatus                0\n",
      "PatientIncome              0\n",
      "PatientMaritalStatus       0\n",
      "PatientEmploymentStatus    0\n",
      "ProviderLocation           0\n",
      "ClaimType                  0\n",
      "ClaimSubmissionMethod      0\n",
      "dtype: int64\n"
     ]
    }
   ],
   "source": [
    "print(df.isnull().sum())"
   ]
  },
  {
   "cell_type": "code",
   "execution_count": 12,
   "id": "9e216e97",
   "metadata": {},
   "outputs": [
    {
     "name": "stdout",
     "output_type": "stream",
     "text": [
      "       ClaimAmount                   ClaimDate   PatientAge  PatientIncome\n",
      "count  4500.000000                        4500  4500.000000    4500.000000\n",
      "mean   5014.203867  2023-07-05 06:48:38.400000    49.838444   84384.284084\n",
      "min     100.120000         2022-07-09 00:00:00     0.000000   20006.870000\n",
      "25%    2509.072500         2023-01-07 18:00:00    25.000000   52791.905000\n",
      "50%    5053.765000         2023-07-03 00:00:00    50.500000   84061.205000\n",
      "75%    7462.452500         2023-12-29 00:00:00    75.000000  115768.417500\n",
      "max    9997.200000         2024-07-08 00:00:00    99.000000  149957.520000\n",
      "std    2866.291066                         NaN    28.790471   37085.908878\n"
     ]
    }
   ],
   "source": [
    "print(df.describe())"
   ]
  },
  {
   "cell_type": "code",
   "execution_count": 15,
   "id": "e57470cf",
   "metadata": {},
   "outputs": [
    {
     "name": "stdout",
     "output_type": "stream",
     "text": [
      "ClaimAmount üçün outlier sayı: 0\n",
      "Lower bound: -4920.997499999999\n",
      "Upper bound: 14892.5225\n",
      "Empty DataFrame\n",
      "Columns: [ClaimAmount]\n",
      "Index: []\n",
      "\n",
      "\n"
     ]
    },
    {
     "data": {
      "image/png": "[encoded data removed]",
      "text/plain": [
       "<Figure size 800x400 with 1 Axes>"
      ]
     },
     "metadata": {},
     "output_type": "display_data"
    }
   ],
   "source": [
    "def find_outliers_IQR(df):\n",
    "    Q1 = df['ClaimAmount'].quantile(0.25)\n",
    "    Q3 = df['ClaimAmount'].quantile(0.75)\n",
    "    IQR = Q3 - Q1\n",
    "    lower_bound = Q1 - 1.5 * IQR\n",
    "    upper_bound = Q3 + 1.5 * IQR\n",
    "    outliers = df[(df['ClaimAmount'] < lower_bound) | (df['ClaimAmount'] > upper_bound)]\n",
    "    print(f\"ClaimAmount üçün outlier sayı: {outliers.shape[0]}\")\n",
    "    print(f\"Lower bound: {lower_bound}\")\n",
    "    print(f\"Upper bound: {upper_bound}\")\n",
    "    print(outliers[['ClaimAmount']].head())\n",
    "    print(\"\\n\")\n",
    "    return outliers\n",
    "# Boxplot çəkmək üçün funksiya\n",
    "import matplotlib.pyplot as plt\n",
    "import seaborn as sns\n",
    "def plot_boxplot(df):\n",
    "    plt.figure(figsize=(8, 4))\n",
    "    sns.boxplot(x=df['ClaimAmount'])\n",
    "    plt.title('ClaimAmount Boxplot')\n",
    "    plt.show()\n",
    "outliers_claimamount = find_outliers_IQR(df)\n",
    "plot_boxplot(df)"
   ]
  },
  {
   "cell_type": "code",
   "execution_count": 16,
   "id": "e9968ac1",
   "metadata": {},
   "outputs": [
    {
     "name": "stdout",
     "output_type": "stream",
     "text": [
      "PatientAge üçün outlier sayı: 0\n",
      "Lower bound: -50.0\n",
      "Upper bound: 150.0\n",
      "Empty DataFrame\n",
      "Columns: [PatientAge]\n",
      "Index: []\n",
      "\n",
      "\n"
     ]
    },
    {
     "data": {
      "image/png": "[encoded data removed]",
      "text/plain": [
       "<Figure size 800x400 with 1 Axes>"
      ]
     },
     "metadata": {},
     "output_type": "display_data"
    }
   ],
   "source": [
    "def find_outliers_patientage(df):\n",
    "    Q1 = df['PatientAge'].quantile(0.25)\n",
    "    Q3 = df['PatientAge'].quantile(0.75)\n",
    "    IQR = Q3 - Q1\n",
    "    lower_bound = Q1 - 1.5 * IQR\n",
    "    upper_bound = Q3 + 1.5 * IQR\n",
    "    outliers = df[(df['PatientAge'] < lower_bound) | (df['PatientAge'] > upper_bound)]\n",
    "    print(f\"PatientAge üçün outlier sayı: {outliers.shape[0]}\")\n",
    "    print(f\"Lower bound: {lower_bound}\")\n",
    "    print(f\"Upper bound: {upper_bound}\")\n",
    "    print(outliers[['PatientAge']].head())\n",
    "    print(\"\\n\")\n",
    "    return outliers\n",
    "def plot_boxplot_patientage(df):\n",
    "    plt.figure(figsize=(8, 4))\n",
    "    sns.boxplot(x=df['PatientAge'])\n",
    "    plt.title('PatientAge Boxplot')\n",
    "    plt.show()\n",
    "outliers_patientage = find_outliers_patientage(df)\n",
    "plot_boxplot_patientage(df)"
   ]
  },
  {
   "cell_type": "code",
   "execution_count": 17,
   "id": "59414fa8",
   "metadata": {},
   "outputs": [
    {
     "name": "stdout",
     "output_type": "stream",
     "text": [
      "PatientIncome üçün outlier sayı: 0\n",
      "Lower bound: -41672.86375000002\n",
      "Upper bound: 210233.18625000003\n",
      "Empty DataFrame\n",
      "Columns: [PatientIncome]\n",
      "Index: []\n",
      "\n",
      "\n"
     ]
    },
    {
     "data": {
      "image/png": "[encoded data removed]",
      "text/plain": [
       "<Figure size 800x400 with 1 Axes>"
      ]
     },
     "metadata": {},
     "output_type": "display_data"
    }
   ],
   "source": [
    "\n",
    "def find_outliers_patientincome(df):\n",
    "    Q1 = df['PatientIncome'].quantile(0.25)\n",
    "    Q3 = df['PatientIncome'].quantile(0.75)\n",
    "    IQR = Q3 - Q1\n",
    "    lower_bound = Q1 - 1.5 * IQR\n",
    "    upper_bound = Q3 + 1.5 * IQR\n",
    "    outliers = df[(df['PatientIncome'] < lower_bound) | (df['PatientIncome'] > upper_bound)]\n",
    "    print(f\"PatientIncome üçün outlier sayı: {outliers.shape[0]}\")\n",
    "    print(f\"Lower bound: {lower_bound}\")\n",
    "    print(f\"Upper bound: {upper_bound}\")\n",
    "    print(outliers[['PatientIncome']].head())\n",
    "    print(\"\\n\")\n",
    "    return outliers\n",
    "def plot_boxplot_patientincome(df):\n",
    "    plt.figure(figsize=(8, 4))\n",
    "    sns.boxplot(x=df['PatientIncome'])\n",
    "    plt.title('PatientIncome Boxplot')\n",
    "    plt.show()\n",
    "outliers_patientincome = find_outliers_patientincome(df)\n",
    "plot_boxplot_patientincome(df)"
   ]
  },
  {
   "cell_type": "code",
   "execution_count": 18,
   "id": "10455934",
   "metadata": {},
   "outputs": [
    {
     "name": "stdout",
     "output_type": "stream",
     "text": [
      "--- ClaimID ---\n",
      "ClaimID\n",
      "10944daf-f7d5-4e1d-8216-72ffa609fe41    0.000222\n",
      "ce8456ab-b2a1-490b-a58b-987784234421    0.000222\n",
      "0dc44a6d-d136-435a-816e-b711712520b2    0.000222\n",
      "90e1abef-dad7-466d-8110-3f7b271cb59b    0.000222\n",
      "c7a7a971-bcef-4cac-ae6d-22daf848d617    0.000222\n",
      "                                          ...   \n",
      "c14c3700-85c1-4645-bb2b-050f14294d15    0.000222\n",
      "db1d791c-240d-446e-bc6a-db064c4607f5    0.000222\n",
      "06626d7d-bba4-47f3-9fca-ddcd593ab1c1    0.000222\n",
      "92f86ce0-ed4d-409b-a670-cc822792eb9c    0.000222\n",
      "f7681dee-6505-4b72-a578-3e86b7287a86    0.000222\n",
      "Name: proportion, Length: 4500, dtype: float64\n",
      "\n",
      "\n",
      "--- PatientID ---\n",
      "PatientID\n",
      "8552381d-7960-4f64-b190-b20b8ada00a1    0.000222\n",
      "df99633a-ca57-4ab4-8300-06e8dfef3814    0.000222\n",
      "4c0050dc-678a-4128-8f57-a0442febee82    0.000222\n",
      "8d09478b-d0bf-4841-9ceb-3d31240c826b    0.000222\n",
      "dc9bc221-9553-4fb4-986d-29e5b4dba608    0.000222\n",
      "                                          ...   \n",
      "a9ad5ea2-9959-4226-a9e6-7d63d63c66f4    0.000222\n",
      "e672827f-142a-4eae-b60a-5fb7d8da6d56    0.000222\n",
      "a0e4d7de-bc5c-4667-84d3-c0a31e0979a1    0.000222\n",
      "1bf89710-df3c-4902-b607-05f52051490d    0.000222\n",
      "5e29f1d8-2ca7-4d76-908d-24cbf6b41137    0.000222\n",
      "Name: proportion, Length: 4500, dtype: float64\n",
      "\n",
      "\n",
      "--- ProviderID ---\n",
      "ProviderID\n",
      "4a4cb19c-4863-41cf-84b0-c2b21aace988    0.000222\n",
      "e952d41e-e04d-4ed8-bdfc-3282c10cd185    0.000222\n",
      "97a2be6a-449b-4cce-a179-b72cbee2b7a0    0.000222\n",
      "e4c544cb-d882-49d0-aa11-3a215e6d8474    0.000222\n",
      "e7f7dee2-9577-42f8-9b27-505929095fef    0.000222\n",
      "                                          ...   \n",
      "7cd6e4e6-c640-4b9e-97bf-21ea2b3758fc    0.000222\n",
      "d8f6a833-3ce7-43c7-89e9-5e70c386eefa    0.000222\n",
      "d2aae97f-0142-46bc-a598-f7cab1506946    0.000222\n",
      "fb932780-f48c-4a64-8cc3-4b02b843f3ff    0.000222\n",
      "95072963-a4e2-4c30-9961-59ecd6b33fbd    0.000222\n",
      "Name: proportion, Length: 4500, dtype: float64\n",
      "\n",
      "\n",
      "--- DiagnosisCode ---\n",
      "DiagnosisCode\n",
      "pa477    0.000444\n",
      "TK486    0.000444\n",
      "OC742    0.000444\n",
      "iR323    0.000444\n",
      "aE034    0.000444\n",
      "           ...   \n",
      "oo617    0.000222\n",
      "Iq895    0.000222\n",
      "fM445    0.000222\n",
      "mY753    0.000222\n",
      "DY251    0.000222\n",
      "Name: proportion, Length: 4495, dtype: float64\n",
      "\n",
      "\n",
      "--- ProcedureCode ---\n",
      "ProcedureCode\n",
      "zW098    0.000667\n",
      "tY099    0.000444\n",
      "tZ954    0.000444\n",
      "zE112    0.000444\n",
      "jA860    0.000222\n",
      "           ...   \n",
      "He154    0.000222\n",
      "Ov656    0.000222\n",
      "Nf229    0.000222\n",
      "qu543    0.000222\n",
      "gn555    0.000222\n",
      "Name: proportion, Length: 4495, dtype: float64\n",
      "\n",
      "\n",
      "--- PatientGender ---\n",
      "PatientGender\n",
      "F    0.507111\n",
      "M    0.492889\n",
      "Name: proportion, dtype: float64\n",
      "\n",
      "\n",
      "--- ProviderSpecialty ---\n",
      "ProviderSpecialty\n",
      "Pediatrics          0.212222\n",
      "Cardiology          0.201556\n",
      "Orthopedics         0.198444\n",
      "General Practice    0.195556\n",
      "Neurology           0.192222\n",
      "Name: proportion, dtype: float64\n",
      "\n",
      "\n",
      "--- ClaimStatus ---\n",
      "ClaimStatus\n",
      "Approved    0.338222\n",
      "Denied      0.336000\n",
      "Pending     0.325778\n",
      "Name: proportion, dtype: float64\n",
      "\n",
      "\n",
      "--- PatientMaritalStatus ---\n",
      "PatientMaritalStatus\n",
      "Married     0.262444\n",
      "Widowed     0.250444\n",
      "Divorced    0.244667\n",
      "Single      0.242444\n",
      "Name: proportion, dtype: float64\n",
      "\n",
      "\n",
      "--- PatientEmploymentStatus ---\n",
      "PatientEmploymentStatus\n",
      "Employed      0.264000\n",
      "Unemployed    0.253556\n",
      "Student       0.246667\n",
      "Retired       0.235778\n",
      "Name: proportion, dtype: float64\n",
      "\n",
      "\n",
      "--- ProviderLocation ---\n",
      "ProviderLocation\n",
      "North Michael      0.001778\n",
      "Port Jennifer      0.001333\n",
      "South Michael      0.001333\n",
      "West Joshua        0.001111\n",
      "Lake Jennifer      0.001111\n",
      "                     ...   \n",
      "Danielleland       0.000222\n",
      "Port Angeltown     0.000222\n",
      "Lake Duaneburgh    0.000222\n",
      "Codyborough        0.000222\n",
      "New Kari           0.000222\n",
      "Name: proportion, Length: 3876, dtype: float64\n",
      "\n",
      "\n",
      "--- ClaimType ---\n",
      "ClaimType\n",
      "Outpatient    0.256000\n",
      "Routine       0.255333\n",
      "Inpatient     0.250667\n",
      "Emergency     0.238000\n",
      "Name: proportion, dtype: float64\n",
      "\n",
      "\n",
      "--- ClaimSubmissionMethod ---\n",
      "ClaimSubmissionMethod\n",
      "Paper     0.343111\n",
      "Phone     0.332222\n",
      "Online    0.324667\n",
      "Name: proportion, dtype: float64\n",
      "\n",
      "\n"
     ]
    }
   ],
   "source": [
    "#Datalarin Datasetde paylanma tezliyi\n",
    "categorical_cols = df.select_dtypes(include='object').columns\n",
    "for col in categorical_cols:\n",
    "    print(f\"--- {col} ---\")\n",
    "    print(df[col].value_counts(normalize=True))  # paylanma (%)\n",
    "    print(\"\\n\")"
   ]
  },
  {
   "cell_type": "code",
   "execution_count": 19,
   "id": "dc264fad",
   "metadata": {},
   "outputs": [
    {
     "name": "stdout",
     "output_type": "stream",
     "text": [
      "--- PatientGender ---\n",
      "PatientGender\n",
      "F    0.507111\n",
      "M    0.492889\n",
      "Name: proportion, dtype: float64\n",
      "\n",
      "\n",
      "--- ClaimStatus ---\n",
      "ClaimStatus\n",
      "Approved    0.338222\n",
      "Denied      0.336000\n",
      "Pending     0.325778\n",
      "Name: proportion, dtype: float64\n",
      "\n",
      "\n",
      "--- PatientMaritalStatus ---\n",
      "PatientMaritalStatus\n",
      "Married     0.262444\n",
      "Widowed     0.250444\n",
      "Divorced    0.244667\n",
      "Single      0.242444\n",
      "Name: proportion, dtype: float64\n",
      "\n",
      "\n",
      "--- PatientEmploymentStatus ---\n",
      "PatientEmploymentStatus\n",
      "Employed      0.264000\n",
      "Unemployed    0.253556\n",
      "Student       0.246667\n",
      "Retired       0.235778\n",
      "Name: proportion, dtype: float64\n",
      "\n",
      "\n",
      "--- ProviderSpecialty ---\n",
      "ProviderSpecialty\n",
      "Pediatrics          0.212222\n",
      "Cardiology          0.201556\n",
      "Orthopedics         0.198444\n",
      "General Practice    0.195556\n",
      "Neurology           0.192222\n",
      "Name: proportion, dtype: float64\n",
      "\n",
      "\n",
      "--- ProviderLocation ---\n",
      "ProviderLocation\n",
      "North Michael      0.001778\n",
      "Port Jennifer      0.001333\n",
      "South Michael      0.001333\n",
      "West Joshua        0.001111\n",
      "Lake Jennifer      0.001111\n",
      "                     ...   \n",
      "Danielleland       0.000222\n",
      "Port Angeltown     0.000222\n",
      "Lake Duaneburgh    0.000222\n",
      "Codyborough        0.000222\n",
      "New Kari           0.000222\n",
      "Name: proportion, Length: 3876, dtype: float64\n",
      "\n",
      "\n",
      "--- ClaimType ---\n",
      "ClaimType\n",
      "Outpatient    0.256000\n",
      "Routine       0.255333\n",
      "Inpatient     0.250667\n",
      "Emergency     0.238000\n",
      "Name: proportion, dtype: float64\n",
      "\n",
      "\n",
      "--- ClaimSubmissionMethod ---\n",
      "ClaimSubmissionMethod\n",
      "Paper     0.343111\n",
      "Phone     0.332222\n",
      "Online    0.324667\n",
      "Name: proportion, dtype: float64\n",
      "\n",
      "\n"
     ]
    }
   ],
   "source": [
    "interesting_cols = ['PatientGender', 'ClaimStatus', 'PatientMaritalStatus',\n",
    "                    'PatientEmploymentStatus', 'ProviderSpecialty',\n",
    "                    'ProviderLocation', 'ClaimType', 'ClaimSubmissionMethod']\n",
    "\n",
    "for col in interesting_cols:\n",
    "    print(f\"--- {col} ---\")\n",
    "    print(df[col].value_counts(normalize=True))\n",
    "    print(\"\\n\")"
   ]
  },
  {
   "cell_type": "code",
   "execution_count": 21,
   "id": "fe53fc16",
   "metadata": {},
   "outputs": [
    {
     "name": "stdout",
     "output_type": "stream",
     "text": [
      "ClaimStatus ehtimallari:\n",
      "ClaimStatus\n",
      "Approved    0.338222\n",
      "Denied      0.336000\n",
      "Pending     0.325778\n",
      "Name: proportion, dtype: float64\n",
      "PatientGender ehtimallari:\n",
      "PatientGender\n",
      "F    0.507111\n",
      "M    0.492889\n",
      "Name: proportion, dtype: float64\n",
      "PatientEmploymentStatus ehtimallari:\n",
      "PatientEmploymentStatus\n",
      "Employed      0.264000\n",
      "Unemployed    0.253556\n",
      "Student       0.246667\n",
      "Retired       0.235778\n",
      "Name: proportion, dtype: float64\n",
      "PatientMaritalStatus ehtimallari:\n",
      "PatientMaritalStatus\n",
      "Married     0.262444\n",
      "Widowed     0.250444\n",
      "Divorced    0.244667\n",
      "Single      0.242444\n",
      "Name: proportion, dtype: float64\n",
      "ClaimType ehtimallari:\n",
      "ClaimType\n",
      "Outpatient    0.256000\n",
      "Routine       0.255333\n",
      "Inpatient     0.250667\n",
      "Emergency     0.238000\n",
      "Name: proportion, dtype: float64\n",
      "ClaimSubmissionMethod ehtimallari:\n",
      "ClaimSubmissionMethod\n",
      "Paper     0.343111\n",
      "Phone     0.332222\n",
      "Online    0.324667\n",
      "Name: proportion, dtype: float64\n"
     ]
    }
   ],
   "source": [
    "# ClaimStatus dəyərlərinin faiz paylanması\n",
    "claim_status_probs = df['ClaimStatus'].value_counts(normalize=True)\n",
    "print(\"ClaimStatus ehtimallari:\")\n",
    "print(claim_status_probs)\n",
    "\n",
    "# PatientGender dəyərlərinin faiz paylanması\n",
    "gender_probs = df['PatientGender'].value_counts(normalize=True)\n",
    "print(\"PatientGender ehtimallari:\")\n",
    "print(gender_probs)\n",
    "\n",
    "# PatientEmploymentStatus dəyərlərinin faiz paylanması\n",
    "employment_probs = df['PatientEmploymentStatus'].value_counts(normalize=True)\n",
    "print(\"PatientEmploymentStatus ehtimallari:\")\n",
    "print(employment_probs)\n",
    "\n",
    "# PatientMaritalStatus dəyərlərinin faiz paylanması\n",
    "marital_probs = df['PatientMaritalStatus'].value_counts(normalize=True)\n",
    "print(\"PatientMaritalStatus ehtimallari:\")\n",
    "print(marital_probs)\n",
    "\n",
    "# ClaimType dəyərlərinin faiz paylanması\n",
    "claimtype_probs = df['ClaimType'].value_counts(normalize=True)\n",
    "print(\"ClaimType ehtimallari:\")\n",
    "print(claimtype_probs)\n",
    "\n",
    "# ClaimSubmissionMethod dəyərlərinin faiz paylanması\n",
    "submissionmethod_probs = df['ClaimSubmissionMethod'].value_counts(normalize=True)\n",
    "print(\"ClaimSubmissionMethod ehtimallari:\")\n",
    "print(submissionmethod_probs)"
   ]
  },
  {
   "cell_type": "code",
   "execution_count": 22,
   "id": "499dfcc9",
   "metadata": {},
   "outputs": [
    {
     "name": "stdout",
     "output_type": "stream",
     "text": [
      "P(ClaimStatus = Approved ∩ PatientGender = F) = 17.1556\n"
     ]
    }
   ],
   "source": [
    "#Hem Approved olan hem de F olan setirlerin faizi\n",
    "joint_prob = (df[(df['ClaimStatus'] == 'Approved') & (df['PatientGender'] == 'F')].shape[0] / df.shape[0])*100\n",
    "print(f\"P(ClaimStatus = Approved ∩ PatientGender = F) = {joint_prob:.4f}\")"
   ]
  },
  {
   "cell_type": "code",
   "execution_count": 23,
   "id": "d1142e1e",
   "metadata": {},
   "outputs": [
    {
     "name": "stdout",
     "output_type": "stream",
     "text": [
      "P(ClaimStatus = Approved | PatientGender = F) = 33.8300\n"
     ]
    }
   ],
   "source": [
    "# Qadınlar arasında təsdiqlənmiş iddiaların faizini tapırıq\n",
    "conditional_prob = (df[(df['ClaimStatus'] == 'Approved') & (df['PatientGender'] == 'F')].shape[0] / df[df['PatientGender'] == 'F'].shape[0])*100\n",
    "print(f\"P(ClaimStatus = Approved | PatientGender = F) = {conditional_prob:.4f}\")"
   ]
  },
  {
   "cell_type": "code",
   "execution_count": 24,
   "id": "ec08b29a",
   "metadata": {},
   "outputs": [
    {
     "name": "stdout",
     "output_type": "stream",
     "text": [
      "P(ClaimStatus = Approved | PatientEmploymentStatus = Employed) = 33.6700\n"
     ]
    }
   ],
   "source": [
    "#İşləyən şəxslər arasında təsdiqlənmiş iddia ehtimalı\n",
    "conditional_employed = (df[(df['ClaimStatus'] == 'Approved') & (df['PatientEmploymentStatus'] == 'Employed')].shape[0] / df[df['PatientEmploymentStatus'] == 'Employed'].shape[0])*100\n",
    "print(f\"P(ClaimStatus = Approved | PatientEmploymentStatus = Employed) = {conditional_employed:.4f}\")"
   ]
  },
  {
   "cell_type": "code",
   "execution_count": 25,
   "id": "a1a531ff",
   "metadata": {},
   "outputs": [
    {
     "name": "stdout",
     "output_type": "stream",
     "text": [
      "P(ClaimStatus = Approved | PatientMaritalStatus = Married) = 0.3285\n"
     ]
    }
   ],
   "source": [
    "#Evli şəxslər arasında təsdiqlənmiş iddia ehtimalı\n",
    "cond_prob_married = df[(df['ClaimStatus'] == 'Approved') & (df['PatientMaritalStatus'] == 'Married')].shape[0] / df[df['PatientMaritalStatus'] == 'Married'].shape[0]\n",
    "print(f\"P(ClaimStatus = Approved | PatientMaritalStatus = Married) = {cond_prob_married:.4f}\")"
   ]
  },
  {
   "cell_type": "code",
   "execution_count": 26,
   "id": "8a55d07a",
   "metadata": {},
   "outputs": [
    {
     "name": "stdout",
     "output_type": "stream",
     "text": [
      "P(ClaimStatus = Denied | ClaimSubmissionMethod = Phone) = 0.3184\n"
     ]
    }
   ],
   "source": [
    "#Telefonla təqdim edilmiş iddiaların rədd edilmə ehtimalı\n",
    "cond_prob_denied_phone = df[(df['ClaimStatus'] == 'Denied') & (df['ClaimSubmissionMethod'] == 'Phone')].shape[0] / df[df['ClaimSubmissionMethod'] == 'Phone'].shape[0]\n",
    "print(f\"P(ClaimStatus = Denied | ClaimSubmissionMethod = Phone) = {cond_prob_denied_phone:.4f}\")"
   ]
  },
  {
   "cell_type": "code",
   "execution_count": 28,
   "id": "d2c2da3d",
   "metadata": {},
   "outputs": [
    {
     "name": "stdout",
     "output_type": "stream",
     "text": [
      "P(ClaimStatus = Approved) = 0.3382\n",
      "P(PatientEmploymentStatus = Employed) = 0.2640\n",
      "P(PatientEmploymentStatus = Employed | ClaimStatus = Approved) = 0.2628\n",
      "Bayes Teoremi ilə hesablanan P(ClaimStatus = Approved | PatientEmploymentStatus = Employed) = 0.3367\n"
     ]
    }
   ],
   "source": [
    "#Lazım olan ehtimalalrin hesablanmasi:\n",
    "p_approved = df[df['ClaimStatus'] == 'Approved'].shape[0] / len(df)\n",
    "print(f\"P(ClaimStatus = Approved) = {p_approved:.4f}\")\n",
    "p_employed = df[df['PatientEmploymentStatus'] == 'Employed'].shape[0] / len(df)\n",
    "print(f\"P(PatientEmploymentStatus = Employed) = {p_employed:.4f}\")\n",
    "p_employed_given_approved = df[(df['PatientEmploymentStatus'] == 'Employed') & (df['ClaimStatus'] == 'Approved')].shape[0] / df[df['ClaimStatus'] == 'Approved'].shape[0]\n",
    "print(f\"P(PatientEmploymentStatus = Employed | ClaimStatus = Approved) = {p_employed_given_approved:.4f}\")\n",
    "# Bayes Teoremini tətbiq edilmesi\n",
    "bayes_result = (p_employed_given_approved * p_approved) / p_employed\n",
    "print(f\"Bayes Teoremi ilə hesablanan P(ClaimStatus = Approved | PatientEmploymentStatus = Employed) = {bayes_result:.4f}\")"
   ]
  },
  {
   "cell_type": "code",
   "execution_count": 29,
   "id": "3ac0dc9d",
   "metadata": {},
   "outputs": [
    {
     "name": "stdout",
     "output_type": "stream",
     "text": [
      "P(ClaimStatus = Approved) = 0.3382\n",
      "P(ClaimType = Emergency) = 0.2380\n",
      "P(ClaimType = Emergency | ClaimStatus = Approved) = 0.2326\n",
      "Bayes ilə P(Approved | Emergency) = 0.3305\n"
     ]
    }
   ],
   "source": [
    "# ClaimType üçün ehtimallar\n",
    "p_approved = df[df['ClaimStatus'] == 'Approved'].shape[0] / len(df)\n",
    "p_claimtype_emergency = df[df['ClaimType'] == 'Emergency'].shape[0] / len(df)\n",
    "p_claimtype_emergency_given_approved = df[(df['ClaimType'] == 'Emergency') & (df['ClaimStatus'] == 'Approved')].shape[0] / df[df['ClaimStatus'] == 'Approved'].shape[0]\n",
    "bayes_claimtype_emergency = (p_claimtype_emergency_given_approved * p_approved) / p_claimtype_emergency\n",
    "print(f\"P(ClaimStatus = Approved) = {p_approved:.4f}\")\n",
    "print(f\"P(ClaimType = Emergency) = {p_claimtype_emergency:.4f}\")\n",
    "print(f\"P(ClaimType = Emergency | ClaimStatus = Approved) = {p_claimtype_emergency_given_approved:.4f}\")\n",
    "print(f\"Bayes ilə P(Approved | Emergency) = {bayes_claimtype_emergency:.4f}\")"
   ]
  },
  {
   "cell_type": "code",
   "execution_count": 30,
   "id": "0dd28560",
   "metadata": {},
   "outputs": [
    {
     "name": "stdout",
     "output_type": "stream",
     "text": [
      "P(ClaimStatus = Approved) = 0.3382\n",
      "P(PatientGender = Female) = 0.5071\n",
      "P(PatientGender = Female | ClaimStatus = Approved) = 0.5072\n",
      "Bayes ilə P(Approved | Female) = 0.3383\n"
     ]
    }
   ],
   "source": [
    "# PatientGender = Female üçün ehtimallar\n",
    "p_approved = df[df['ClaimStatus'] == 'Approved'].shape[0] / len(df)\n",
    "p_female = df[df['PatientGender'] == 'F'].shape[0] / len(df)\n",
    "p_female_given_approved = df[(df['PatientGender'] == 'F') & (df['ClaimStatus'] == 'Approved')].shape[0] / df[df['ClaimStatus'] == 'Approved'].shape[0]\n",
    "bayes_female = (p_female_given_approved * p_approved) / p_female\n",
    "print(f\"P(ClaimStatus = Approved) = {p_approved:.4f}\")\n",
    "print(f\"P(PatientGender = Female) = {p_female:.4f}\")\n",
    "print(f\"P(PatientGender = Female | ClaimStatus = Approved) = {p_female_given_approved:.4f}\")\n",
    "print(f\"Bayes ilə P(Approved | Female) = {bayes_female:.4f}\")"
   ]
  },
  {
   "cell_type": "code",
   "execution_count": 31,
   "id": "b57cb0db",
   "metadata": {},
   "outputs": [
    {
     "name": "stdout",
     "output_type": "stream",
     "text": [
      "P(PatientMaritalStatus = Married) = 0.2624\n",
      "P(PatientMaritalStatus = Married | ClaimStatus = Approved) = 0.2549\n",
      "Bayes ilə P(Approved | Married) = 0.3285\n"
     ]
    }
   ],
   "source": [
    "# PatientMaritalStatus = Married üçün ehtimallar\n",
    "p_married = df[df['PatientMaritalStatus'] == 'Married'].shape[0] / len(df)\n",
    "p_married_given_approved = df[(df['PatientMaritalStatus'] == 'Married') & (df['ClaimStatus'] == 'Approved')].shape[0] / df[df['ClaimStatus'] == 'Approved'].shape[0]\n",
    "bayes_married = (p_married_given_approved * p_approved) / p_married\n",
    "print(f\"P(PatientMaritalStatus = Married) = {p_married:.4f}\")\n",
    "print(f\"P(PatientMaritalStatus = Married | ClaimStatus = Approved) = {p_married_given_approved:.4f}\")\n",
    "print(f\"Bayes ilə P(Approved | Married) = {bayes_married:.4f}\")"
   ]
  },
  {
   "cell_type": "code",
   "execution_count": 32,
   "id": "5f102e9a",
   "metadata": {},
   "outputs": [
    {
     "name": "stdout",
     "output_type": "stream",
     "text": [
      "P(ClaimStatus = Approved) = 0.3382\n",
      "P(PatientGender = Female və PatientEmploymentStatus = Employed) = 0.1347\n",
      "P(PatientGender = Female və PatientEmploymentStatus = Employed | ClaimStatus = Approved) = 0.1334\n",
      "Bayes ilə P(Approved | Female və Employed) = 0.3350\n"
     ]
    }
   ],
   "source": [
    "# Əsas ehtimal\n",
    "p_approved = df[df['ClaimStatus'] == 'Approved'].shape[0] / len(df)\n",
    "# B və C ehtimalları\n",
    "p_female_employed = df[(df['PatientGender'] == 'F') & (df['PatientEmploymentStatus'] == 'Employed')].shape[0] / len(df)\n",
    "# B və C verilmiş A ehtimalı\n",
    "p_female_employed_given_approved = df[(df['PatientGender'] == 'F') & \n",
    "                                      (df['PatientEmploymentStatus'] == 'Employed') & \n",
    "                                      (df['ClaimStatus'] == 'Approved')].shape[0] / df[df['ClaimStatus'] == 'Approved'].shape[0]\n",
    "# Bayes Teoremi\n",
    "bayes_multi = (p_female_employed_given_approved * p_approved) / p_female_employed\n",
    "print(f\"P(ClaimStatus = Approved) = {p_approved:.4f}\")\n",
    "print(f\"P(PatientGender = Female və PatientEmploymentStatus = Employed) = {p_female_employed:.4f}\")\n",
    "print(f\"P(PatientGender = Female və PatientEmploymentStatus = Employed | ClaimStatus = Approved) = {p_female_employed_given_approved:.4f}\")\n",
    "print(f\"Bayes ilə P(Approved | Female və Employed) = {bayes_multi:.4f}\")"
   ]
  },
  {
   "cell_type": "code",
   "execution_count": 33,
   "id": "e3a37a45",
   "metadata": {},
   "outputs": [
    {
     "name": "stdout",
     "output_type": "stream",
     "text": [
      "  PatientGender PatientEmploymentStatus SimulatedClaimStatus\n",
      "0             F                Employed         Not Approved\n",
      "1             M              Unemployed         Not Approved\n",
      "2             F                Employed         Not Approved\n",
      "3             F              Unemployed         Not Approved\n",
      "4             M                Employed             Approved\n"
     ]
    }
   ],
   "source": [
    "# Simulyasiya yaratmaq\n",
    "import numpy as np\n",
    "import pandas as pd\n",
    "# Yeni policyholder-ların nümunə məlumatları\n",
    "new_policyholders = pd.DataFrame({\n",
    "    'PatientGender': ['F', 'M', 'F', 'F', 'M'],\n",
    "    'PatientEmploymentStatus': ['Employed', 'Unemployed', 'Employed', 'Unemployed', 'Employed']\n",
    "})\n",
    "# P(Approved | Female və Employed)\n",
    "p_approved_female_employed = 0.3350\n",
    "p_approved_others = 0.3382  # Ümumi ehtimal (sadə model)\n",
    "\n",
    "# Funksiya ehtimal əsasında simulyasiya üçün\n",
    "def simulate_claim_status(row):\n",
    "    if row['PatientGender'] == 'F' and row['PatientEmploymentStatus'] == 'Employed':\n",
    "        prob = p_approved_female_employed\n",
    "    else:\n",
    "        prob = p_approved_others\n",
    "    return np.random.choice(['Approved', 'Not Approved'], p=[prob, 1 - prob])\n",
    "# Yeni sığorta sahibləri üçün iddia statusunu simulyasiya edək\n",
    "new_policyholders['SimulatedClaimStatus'] = new_policyholders.apply(simulate_claim_status, axis=1)\n",
    "print(new_policyholders)"
   ]
  },
  {
   "cell_type": "code",
   "execution_count": 34,
   "id": "f4dbd790",
   "metadata": {},
   "outputs": [
    {
     "name": "stdout",
     "output_type": "stream",
     "text": [
      "SimulatedClaimStatus\n",
      "Not Approved    625\n",
      "Approved        375\n",
      "Name: count, dtype: int64\n"
     ]
    }
   ],
   "source": [
    "# Yeni policyholder-lar üçün nümunə məlumatlar\n",
    "new_policyholders_large = pd.DataFrame({\n",
    "    'PatientGender': np.random.choice(['F', 'M'], size=1000),\n",
    "    'PatientEmploymentStatus': np.random.choice(['Employed', 'Unemployed'], size=1000)\n",
    "})\n",
    "# Simulyasiya funksiyası (əvvəlki kimi)\n",
    "new_policyholders_large['SimulatedClaimStatus'] = new_policyholders_large.apply(simulate_claim_status, axis=1)\n",
    "# Nəticələrin sayını göstərək\n",
    "print(new_policyholders_large['SimulatedClaimStatus'].value_counts())"
   ]
  },
  {
   "cell_type": "code",
   "execution_count": 36,
   "id": "ae50b5af",
   "metadata": {},
   "outputs": [
    {
     "data": {
      "image/png": "[encoded data removed]",
      "text/plain": [
       "<Figure size 640x480 with 1 Axes>"
      ]
     },
     "metadata": {},
     "output_type": "display_data"
    }
   ],
   "source": [
    "import matplotlib.pyplot as plt\n",
    "# Simulyasiya nəticələrinin sayını götürək\n",
    "counts = new_policyholders_large['SimulatedClaimStatus'].value_counts()\n",
    "# Bar chart\n",
    "plt.bar(counts.index, counts.values, color=['yellow', 'green'])\n",
    "plt.title('Simulyasiya Nəticələri: Claim Status')\n",
    "plt.ylabel('Sayı')\n",
    "plt.show()\n"
   ]
  },
  {
   "cell_type": "code",
   "execution_count": 37,
   "id": "06328679",
   "metadata": {},
   "outputs": [
    {
     "name": "stdout",
     "output_type": "stream",
     "text": [
      "Simulyasiya nəticələrinin paylanmasi (nisbət):\n",
      "SimulatedClaimStatus\n",
      "Not Approved    0.625\n",
      "Approved        0.375\n",
      "Name: proportion, dtype: float64\n"
     ]
    }
   ],
   "source": [
    "# Simulyasiya nəticələrinin ümumi paylanması (nisbət)\n",
    "claim_status_ratio = new_policyholders_large['SimulatedClaimStatus'].value_counts(normalize=True)\n",
    "print(\"Simulyasiya nəticələrinin paylanmasi (nisbət):\")\n",
    "print(claim_status_ratio)"
   ]
  },
  {
   "cell_type": "code",
   "execution_count": 38,
   "id": "be4de811",
   "metadata": {},
   "outputs": [
    {
     "name": "stdout",
     "output_type": "stream",
     "text": [
      "\n",
      "Cins üzrə təsdiqlənmə nisbətləri:\n",
      "SimulatedClaimStatus  Approved  Not Approved\n",
      "PatientGender                               \n",
      "F                     0.369295      0.630705\n",
      "M                     0.380309      0.619691\n"
     ]
    }
   ],
   "source": [
    "# Cins üzrə təsdiqlənmə paylanması (nisbət)\n",
    "gender_approval = new_policyholders_large.groupby('PatientGender')['SimulatedClaimStatus'].value_counts(normalize=True).unstack()\n",
    "print(\"\\nCins üzrə təsdiqlənmə nisbətləri:\")\n",
    "print(gender_approval)"
   ]
  },
  {
   "cell_type": "code",
   "execution_count": 39,
   "id": "0a4a7fb9",
   "metadata": {},
   "outputs": [
    {
     "name": "stdout",
     "output_type": "stream",
     "text": [
      "\n",
      "İş statusu üzrə təsdiqlənmə nisbətləri:\n",
      "SimulatedClaimStatus     Approved  Not Approved\n",
      "PatientEmploymentStatus                        \n",
      "Employed                 0.381339      0.618661\n",
      "Unemployed               0.368836      0.631164\n"
     ]
    }
   ],
   "source": [
    "# İş statusu üzrə təsdiqlənmə paylanması (nisbət)\n",
    "employment_approval = new_policyholders_large.groupby('PatientEmploymentStatus')['SimulatedClaimStatus'].value_counts(normalize=True).unstack()\n",
    "print(\"\\nİş statusu üzrə təsdiqlənmə nisbətləri:\")\n",
    "print(employment_approval)"
   ]
  },
  {
   "cell_type": "code",
   "execution_count": 40,
   "id": "548e2f1d",
   "metadata": {},
   "outputs": [
    {
     "data": {
      "image/png": "[encoded data removed]",
      "text/plain": [
       "<Figure size 640x480 with 1 Axes>"
      ]
     },
     "metadata": {},
     "output_type": "display_data"
    }
   ],
   "source": [
    "import matplotlib.pyplot as plt\n",
    "\n",
    "gender_approval.plot(kind='bar', stacked=True, color=['red', 'green'])\n",
    "plt.title('Simulyasiya: Təsdiqlənmə Nisbəti Cinsə Görə')\n",
    "plt.xlabel('PatientGender')\n",
    "plt.ylabel('Nisbət')\n",
    "plt.legend(title='SimulatedClaimStatus')\n",
    "plt.show()"
   ]
  },
  {
   "cell_type": "code",
   "execution_count": null,
   "id": "75b2460f",
   "metadata": {},
   "outputs": [],
   "source": []
  }
 ],
 "metadata": {
  "kernelspec": {
   "display_name": "Python 3 (ipykernel)",
   "language": "python",
   "name": "python3"
  },
  "language_info": {
   "codemirror_mode": {
    "name": "ipython",
    "version": 3
   },
   "file_extension": ".py",
   "mimetype": "text/x-python",
   "name": "python",
   "nbconvert_exporter": "python",
   "pygments_lexer": "ipython3",
   "version": "3.11.5"
  }
 },
 "nbformat": 4,
 "nbformat_minor": 5
}
